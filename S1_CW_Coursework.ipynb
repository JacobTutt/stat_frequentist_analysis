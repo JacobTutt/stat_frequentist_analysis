{
 "cells": [
  {
   "cell_type": "markdown",
   "metadata": {},
   "source": [
    "# S1 Coursework"
   ]
  },
  {
   "cell_type": "code",
   "execution_count": 1,
   "metadata": {},
   "outputs": [],
   "source": [
    "import numpy as np\n",
    "from Signal_Background_Class import Signal_Background\n",
    "\n"
   ]
  },
  {
   "cell_type": "code",
   "execution_count": 2,
   "metadata": {},
   "outputs": [],
   "source": [
    "mu = 3\n",
    "sigma = 0.3 \n",
    "beta = 1\n",
    "m = 1.4\n",
    "f = 0.6\n",
    "lamb = 0.3\n",
    "mu_b = 0\n",
    "sigma_b = 2.5"
   ]
  },
  {
   "cell_type": "code",
   "execution_count": 3,
   "metadata": {},
   "outputs": [
    {
     "name": "stdout",
     "output_type": "stream",
     "text": [
      "Maximum PDF value found: 0.21804724534774383\n"
     ]
    }
   ],
   "source": [
    "# distexp = ExponentialDecay(lamb, 0, 10)\n",
    "# distcrys= CrystalBall( mu, sigma, beta, m, 0, 5)\n",
    "# distnorm = NormalDistribution(mu_b, sigma_b, 0, 10)\n",
    "# distuni = UniformDistribution(0, 10)\n",
    "distoverall = Signal_Background(mu, sigma, beta, m, lamb,  mu_b, sigma_b, f, 0, 5, 0, 10)"
   ]
  },
  {
   "cell_type": "code",
   "execution_count": 4,
   "metadata": {},
   "outputs": [],
   "source": [
    "samples =  distoverall.accept_reject_sample(save_to_class=True)\n",
    "# print (samples)"
   ]
  },
  {
   "cell_type": "code",
   "execution_count": 5,
   "metadata": {},
   "outputs": [
    {
     "name": "stdout",
     "output_type": "stream",
     "text": [
      "Generating 250 samples with base size 500...\n",
      "Bootstrap samples with base size 500 saved to Bootstrap/Samples/Samples_No_250_BaseSize_500.npy\n",
      "Generating 250 samples with base size 1000...\n",
      "Bootstrap samples with base size 1000 saved to Bootstrap/Samples/Samples_No_250_BaseSize_1000.npy\n",
      "Generating 250 samples with base size 2500...\n",
      "Bootstrap samples with base size 2500 saved to Bootstrap/Samples/Samples_No_250_BaseSize_2500.npy\n",
      "Generating 250 samples with base size 5000...\n",
      "Bootstrap samples with base size 5000 saved to Bootstrap/Samples/Samples_No_250_BaseSize_5000.npy\n",
      "Generating 250 samples with base size 10000...\n",
      "Bootstrap samples with base size 10000 saved to Bootstrap/Samples/Samples_No_250_BaseSize_10000.npy\n"
     ]
    }
   ],
   "source": [
    "distoverall.param_bootstrap_samples(250, [500,1000,2500,5000,10000], output_directory=\"Bootstrap/Samples\", poisson=True)"
   ]
  },
  {
   "cell_type": "code",
   "execution_count": null,
   "metadata": {},
   "outputs": [],
   "source": [
    "initial_params = [3.1, 0.32, 1, 1.5, 0.28, 0.1, 2.4, 0.55]\n",
    "distoverall.param_bootstrap_fit(initial_params , input_directory=\"Bootstrap/Samples\", output_directory=\"Bootstrap/Param_Results\")"
   ]
  },
  {
   "cell_type": "code",
   "execution_count": 7,
   "metadata": {},
   "outputs": [],
   "source": [
    "# distoverall.Signal.plot_dist()"
   ]
  },
  {
   "cell_type": "code",
   "execution_count": 8,
   "metadata": {},
   "outputs": [],
   "source": [
    "# distoverall.Background.plot_dist()"
   ]
  },
  {
   "cell_type": "code",
   "execution_count": 9,
   "metadata": {},
   "outputs": [],
   "source": [
    "# distoverall.plot_marginal()"
   ]
  },
  {
   "cell_type": "code",
   "execution_count": 10,
   "metadata": {},
   "outputs": [],
   "source": [
    "# distoverall.plot_marginal()"
   ]
  },
  {
   "cell_type": "code",
   "execution_count": 11,
   "metadata": {},
   "outputs": [],
   "source": [
    "# distoverall.plot_samples()"
   ]
  },
  {
   "cell_type": "code",
   "execution_count": 12,
   "metadata": {},
   "outputs": [],
   "source": [
    "# #initial_params = [mu, sigma, beta, m, lamb, mu_b, sigma_b, f, N_expected]\n",
    "\n",
    "# intial_params = [3.1, 0.32, 1, 1.5, 0.28, 0.1, 2.4, 0.55, 99000]\n",
    "\n",
    "# mi = distoverall.fit_params(intial_params, print_results=True, save_to_class=True)\n",
    "# distoverall.plot_profiled_likelihoods()"
   ]
  },
  {
   "cell_type": "code",
   "execution_count": 13,
   "metadata": {},
   "outputs": [],
   "source": [
    "# distoverall.fit_params_results()"
   ]
  },
  {
   "cell_type": "code",
   "execution_count": 14,
   "metadata": {},
   "outputs": [],
   "source": [
    "# distoverall.plot_profiled_likelihoods()"
   ]
  },
  {
   "cell_type": "code",
   "execution_count": 15,
   "metadata": {},
   "outputs": [],
   "source": [
    "# results = distoverall.param_bootstrap_analysis()"
   ]
  }
 ],
 "metadata": {
  "kernelspec": {
   "display_name": "coursework_S1_venv",
   "language": "python",
   "name": "coursework_s1_venv"
  },
  "language_info": {
   "codemirror_mode": {
    "name": "ipython",
    "version": 3
   },
   "file_extension": ".py",
   "mimetype": "text/x-python",
   "name": "python",
   "nbconvert_exporter": "python",
   "pygments_lexer": "ipython3",
   "version": "3.10.9"
  }
 },
 "nbformat": 4,
 "nbformat_minor": 2
}
